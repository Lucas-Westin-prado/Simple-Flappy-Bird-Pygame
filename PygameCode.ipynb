{
  "nbformat": 4,
  "nbformat_minor": 0,
  "metadata": {
    "colab": {
      "provenance": []
    },
    "kernelspec": {
      "name": "python3",
      "display_name": "Python 3"
    },
    "language_info": {
      "name": "python"
    }
  },
  "cells": [
    {
      "cell_type": "code",
      "execution_count": null,
      "metadata": {
        "id": "nSKKrSYtf7Cd"
      },
      "outputs": [],
      "source": [
        "import pygame\n",
        "import random\n",
        "\n",
        "pygame.init()\n",
        "pygame.display.set_caption('Flappy Bird')\n",
        "\n",
        "background = pygame.display.set_mode((1000, 800))\n",
        "espaço_vazio = 200\n",
        "raio_bird = 25\n",
        "pos_y = 400\n",
        "pipes = []\n",
        "black = (0, 0, 0)\n",
        "white = (255, 255, 255)\n",
        "red = (255, 0, 0)\n",
        "\n",
        "gravity = 1\n",
        "first_time = pygame.time.get_ticks()\n",
        "\n",
        "def bird(pos_y):\n",
        "    pygame.draw.circle(background, red, [250, float(pos_y)], raio_bird)\n",
        "\n",
        "def draw_pipes():\n",
        "    for pipe in pipes:\n",
        "        x, y = pipe\n",
        "        pygame.draw.rect(background, white, [x, y, 50, float(1000-y)])\n",
        "        pygame.draw.rect(background, white, [x, 0, 50, float(y-espaço_vazio)])\n",
        "\n",
        "def colisão(pos_y, pipes):\n",
        "    bird_rect = pygame.Rect(250-raio_bird, float(pos_y-raio_bird), raio_bird*2, raio_bird*2)\n",
        "    for pipe in pipes:\n",
        "        x, y = pipe\n",
        "        inferior_pipe = pygame.Rect(x, y, 50, float(1000-y))\n",
        "        superior_pipe = pygame.Rect(x, 0, 50, float(y-espaço_vazio))\n",
        "        if bird_rect.colliderect(inferior_pipe) or bird_rect.colliderect(superior_pipe):\n",
        "            return True\n",
        "    if float(pos_y-raio_bird) < 0 or float(pos_y-raio_bird) > 800:\n",
        "        return True\n",
        "    return False\n",
        "\n",
        "def rodar():\n",
        "    end_game = False\n",
        "    global gravity, pos_y, first_time, pipes\n",
        "    while not end_game:\n",
        "        background.fill(black)\n",
        "        for evento in pygame.event.get():\n",
        "            if evento.type == pygame.QUIT:\n",
        "                end_game = True\n",
        "            elif evento.type == pygame.MOUSEBUTTONUP:\n",
        "                gravity = -10\n",
        "        last_time = pygame.time.get_ticks()\n",
        "        if last_time - first_time > 2000:\n",
        "            pipe_height = random.randrange(300, 500)\n",
        "            pipes.append([1000, pipe_height])\n",
        "            first_time = last_time\n",
        "        for pipe in pipes:\n",
        "            pipe[0] += -10\n",
        "        pipes = [pipe for pipe in pipes if pipe[0] > -50]\n",
        "        if colisão(pos_y, pipes):\n",
        "            print('Fim de Jogo')\n",
        "            end_game = True\n",
        "        pos_y += gravity\n",
        "        gravity += 0.5\n",
        "        bird(pos_y)\n",
        "        draw_pipes()\n",
        "        pygame.display.update()\n",
        "        pygame.time.Clock().tick(30)\n",
        "    pygame.quit()\n",
        "\n",
        "rodar()"
      ]
    }
  ]
}